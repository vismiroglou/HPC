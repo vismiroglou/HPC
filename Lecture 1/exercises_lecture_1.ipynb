{
 "cells": [
  {
   "cell_type": "markdown",
   "metadata": {},
   "source": [
    "## Exercise 1.1: \"Use of registers\"\n",
    "Create a vector X of N random numbers, where N is in the order of 1e6 to 1e8 (depending on the speed of your computer).\n",
    "Create the following implementations to calculate the difference between the consecutive elements in X: (resulting in a vector Y with N-1 elements)\n",
    "1. Use a regular for loop and calculate the difference as Y(i) = X(i+1) - X(i), where X and Y are implemented as python lists.\n",
    "2. Extend the above program with intermediate variables (e.g. x_next and x_now) to store the X(i+1) value for the next iteration.\n",
    "3. Same as 1, but store X and Y as numpy arrays.\n",
    "4. Same as 2, but store X and Y as numpy arrays. \n",
    "5. Use a diff-function to compute the result thereby exploiting vector computation (wide registers) - in Python this function is \"numpy.diff\". \n",
    "6. Measure the execution time of all implementations and explain the difference in performance."
   ]
  },
  {
   "cell_type": "code",
   "execution_count": 1,
   "metadata": {},
   "outputs": [],
   "source": [
    "import numpy as np\n",
    "import random\n",
    "import time"
   ]
  },
  {
   "cell_type": "code",
   "execution_count": 2,
   "metadata": {},
   "outputs": [],
   "source": [
    "N = 10**7\n",
    "def naive(x):\n",
    "    y = []\n",
    "    for i in range(N-1):\n",
    "        y.append(x[i]-x[i+1])\n",
    "\n",
    "def naive_inter(x):\n",
    "    y = []\n",
    "    x_now = x[0]\n",
    "    for i in range(N-1):\n",
    "        x_next = x[i+1]\n",
    "        y.append(x_next-x_now)\n",
    "        x_now = x_next\n",
    "\n",
    "def naive_numpy(x):\n",
    "    y = np.zeros(N-1)\n",
    "    for i in range(N-1):\n",
    "        y[i] = (x[i]-x[i+1])\n",
    "\n",
    "def naive_inter_numpy(x):\n",
    "    y = np.zeros(N-1)\n",
    "    x_now = x[0]\n",
    "    for i in range(N-1):\n",
    "        x_next = x[i+1]\n",
    "        y[i] = (x_next-x_now)\n",
    "        x_now = x_next"
   ]
  },
  {
   "cell_type": "code",
   "execution_count": 3,
   "metadata": {},
   "outputs": [
    {
     "name": "stdout",
     "output_type": "stream",
     "text": [
      "Naive python list approach processing time: 0.7870898246765137s\n",
      "Naive python list with intermediate approach processing time: 0.7997786998748779s\n",
      "Numpy approach processing time: 1.6100010871887207s\n",
      "Numpy with intermediate approach processing time: 1.6320390701293945s\n",
      "Numpy with intermediate approach processing time: 0.01783156394958496s\n"
     ]
    }
   ],
   "source": [
    "\n",
    "x = [random.normalvariate(0, 1) for i in range(N)]\n",
    "\n",
    "#Naive python list approach\n",
    "start = time.time()\n",
    "naive(x)\n",
    "processing_time = time.time()-start\n",
    "print(f'Naive python list approach processing time: {processing_time}s')\n",
    "\n",
    "start = time.time()\n",
    "naive_inter(x)\n",
    "processing_time = time.time()-start\n",
    "print(f'Naive python list with intermediate approach processing time: {processing_time}s')\n",
    "\n",
    "#Numpy approaches\n",
    "x = np.array([random.normalvariate(0, 1) for i in range(N)])\n",
    "\n",
    "start = time.time()\n",
    "naive_inter_numpy(x)\n",
    "processing_time = time.time()-start\n",
    "print(f'Numpy approach processing time: {processing_time}s')\n",
    "\n",
    "start = time.time()\n",
    "naive_inter_numpy(x)\n",
    "processing_time = time.time()-start\n",
    "print(f'Numpy with intermediate approach processing time: {processing_time}s')\n",
    "\n",
    "#Numpy diff\n",
    "start = time.time()\n",
    "np.diff(x)\n",
    "processing_time = time.time()-start\n",
    "print(f'Numpy with intermediate approach processing time: {processing_time}s')"
   ]
  },
  {
   "cell_type": "markdown",
   "metadata": {},
   "source": [
    "## Exercise 1.2: \"Memory organization - C vs. Fortran layout\"\n",
    "\n",
    "### Part A - theoretical:\n",
    "\n",
    "We have 6 elements stored contiguous in memory in the order: 1, 2, 3, 4, 5, 6.  In the following, we read this contiguous data into arrays in different ways.  What do the arrays look like if we read the data as:\n",
    "\n",
    "- a 2x3 matrix treating data as column-major (Fortran style) as F2x3?\n",
    "- a 3x2 matrix treating data as column-major (Fortran style) as F3x2?\n",
    "- a 2x3 matrix treating data as row-major (C style) as C2x3?\n",
    "- a 3x2 matrix treating data as row-major (C style) as C3x2?\n",
    "Explain the relations between the different matrices and how this may be utilized.\n",
    "\n",
    "### Part B - practical:\n",
    "\n",
    "Generate a random vector X with dimension N x M and another vector Y with opposite dimensions M x N, where N >> M, e.g. N = 100.000, M = 100. \n",
    "Make a program with two functions: one that loops over each row and calculates the row-sum (using numpy.sum()) and one that does the same, but loops over each column.\n",
    "Measure execution speed for each orientation for each for the two vectors.\n",
    "Do these results match your expectation given the memory layout difference between Fortran (Matlab) and C (Python)?\n",
    "In Python: if this was implemented with a 2D list, you will probably not see a big difference. Why not? \n",
    "Extra info: In Python Numpy you can specify the memory layout for an array explicitly using the keyword order=‘C’ or order=‘F’.\n"
   ]
  },
  {
   "cell_type": "code",
   "execution_count": 17,
   "metadata": {},
   "outputs": [
    {
     "name": "stdout",
     "output_type": "stream",
     "text": [
      "0.25285935401916504\n",
      "0.015817642211914062\n",
      "0.021260499954223633\n",
      "0.2805149555206299\n"
     ]
    }
   ],
   "source": [
    "x = np.random.rand(10**5, 100)\n",
    "y = np.random.rand(100, 10**5)\n",
    "\n",
    "def row_sum(x):\n",
    "    for i in range(x.shape[0]):\n",
    "        np.sum(x[i])\n",
    "\n",
    "def column_sum(x):\n",
    "    for i in range(x.shape[1]):\n",
    "        np.sum(x[:, i])\n",
    "\n",
    "start = time.time()\n",
    "row_sum(x)\n",
    "print(time.time()-start)\n",
    "start = time.time()\n",
    "row_sum(y)\n",
    "print(time.time()-start)\n",
    "\n",
    "start = time.time()\n",
    "column_sum(x)\n",
    "print(time.time()-start)\n",
    "start = time.time()\n",
    "column_sum(y)\n",
    "print(time.time()-start)"
   ]
  },
  {
   "cell_type": "code",
   "execution_count": null,
   "metadata": {},
   "outputs": [],
   "source": []
  }
 ],
 "metadata": {
  "kernelspec": {
   "display_name": ".venv",
   "language": "python",
   "name": "python3"
  },
  "language_info": {
   "codemirror_mode": {
    "name": "ipython",
    "version": 3
   },
   "file_extension": ".py",
   "mimetype": "text/x-python",
   "name": "python",
   "nbconvert_exporter": "python",
   "pygments_lexer": "ipython3",
   "version": "3.11.5"
  }
 },
 "nbformat": 4,
 "nbformat_minor": 2
}
